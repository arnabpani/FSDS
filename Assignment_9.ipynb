{
 "cells": [
  {
   "cell_type": "code",
   "execution_count": 4,
   "id": "0b0cab2a",
   "metadata": {},
   "outputs": [
    {
     "name": "stdout",
     "output_type": "stream",
     "text": [
      "..\\home \\ User \\ Desktop \\ file.txt\n"
     ]
    }
   ],
   "source": [
    "1. To what does a relative path refer?\n",
    "- It gives not full path of the first arguement but either gives from current directory or the directory passed in argument\n",
    "\n",
    "2. What does an absolute path start with your operating system?\n",
    "-C:\\users\\arnabpani\\\n",
    "\n",
    "3. What do the functions os.getcwd() and os.chdir() do?\n",
    "- get current working directory\n",
    "change directory\n",
    "\n",
    "4. What are the . and .. folders?\n",
    "-. current directory\n",
    ".. parent directories\n",
    "\n",
    "5. In C:\\bacon\\eggs\\spam.txt, which part is the dir name, and which part is the base name?\n",
    "-dirname: C:\\bacon\\eggs\n",
    " basename: spam.txt\n",
    "    \n",
    "6. What are the three “mode” arguments that can be passed to the open() function?\n",
    "- raw: Read, Append, Write.\n",
    "    \n",
    "7. What happens if an existing file is opened in write mode?\n",
    "-It will erase everything in that file and let uswrite anything with write()\n",
    "\n",
    "8. How do you tell the difference between read() and readlines()?\n",
    "- read() reads all content at once and returns string value.\n",
    "readlines() reads every line and returns it in elements in list.\n",
    "\n",
    "9. What data structure does a shelf value resemble?\n",
    "-dictionary value"
   ]
  }
 ],
 "metadata": {
  "kernelspec": {
   "display_name": "Python 3",
   "language": "python",
   "name": "python3"
  },
  "language_info": {
   "codemirror_mode": {
    "name": "ipython",
    "version": 3
   },
   "file_extension": ".py",
   "mimetype": "text/x-python",
   "name": "python",
   "nbconvert_exporter": "python",
   "pygments_lexer": "ipython3",
   "version": "3.8.8"
  }
 },
 "nbformat": 4,
 "nbformat_minor": 5
}
