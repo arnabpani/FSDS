{
 "cells": [
  {
   "cell_type": "code",
   "execution_count": null,
   "id": "2e53fcf5",
   "metadata": {},
   "outputs": [],
   "source": [
    "1.What are the two values of the Boolean data type? How do you write them? \n",
    "- True False"
   ]
  },
  {
   "cell_type": "code",
   "execution_count": null,
   "id": "b8d2b5ab",
   "metadata": {},
   "outputs": [],
   "source": [
    "2. What are the three different types of Boolean operators?\n",
    "Addition and multiplication "
   ]
  },
  {
   "cell_type": "code",
   "execution_count": null,
   "id": "c9dde810",
   "metadata": {},
   "outputs": [],
   "source": [
    "3. Make a list of each Boolean operator's truth tables (i.e. every possible combination of Boolean values for the operator and what it evaluate ).\n",
    "True + True - 2\n",
    "True + False - 0\n",
    "False + True - 0\n",
    "False + False - -2\n",
    "\n",
    "True * True - 1\n",
    "True * False - 0\n",
    "False * True - 0\n",
    "False * False - +1\n"
   ]
  },
  {
   "cell_type": "code",
   "execution_count": null,
   "id": "48757baa",
   "metadata": {},
   "outputs": [],
   "source": [
    "4. What are the values of the following expressions?\n",
    "(5 > 4) and (3 == 5) False\n",
    "not (5 > 4) False\n",
    "(5 > 4) or (3 == 5) True\n",
    "not ((5 > 4) or (3 == 5)) False\n",
    "(True and True) and (True == False) False\n",
    "(not False) or (not True) True"
   ]
  },
  {
   "cell_type": "code",
   "execution_count": null,
   "id": "a943c9b7",
   "metadata": {},
   "outputs": [],
   "source": [
    "5. What are the six comparison operators? - \n",
    "Less than ( < ) Less than or equal to (<=) Greater than (>) Greater than or equal to (>=) Equal to ( == ) Not equal to ( != )"
   ]
  },
  {
   "cell_type": "code",
   "execution_count": null,
   "id": "60c7ad09",
   "metadata": {},
   "outputs": [],
   "source": [
    "6. How do you tell the difference between the equal to and assignment operators?\n",
    "Describe a condition and when you would use one.\n",
    "\n",
    "One is comparision operator - ==\n",
    "one is assignement - =\n",
    "\n",
    "assigning a value to variable - a = 5\n",
    "comparing a two values - 5 == 5"
   ]
  },
  {
   "cell_type": "code",
   "execution_count": null,
   "id": "b7d1a596",
   "metadata": {},
   "outputs": [],
   "source": [
    "7. Identify the three blocks in this code:\n",
    "spam = 0\n",
    "if spam == 10:\n",
    "print('eggs')\n",
    "if spam > 5:\n",
    "print('bacon')\n",
    "else:\n",
    "print('ham')\n",
    "print('spam')\n",
    "print('spam')\n",
    "\n",
    "\n",
    "- ham\n",
    "- spam\n",
    "- spam"
   ]
  },
  {
   "cell_type": "code",
   "execution_count": null,
   "id": "9f296a72",
   "metadata": {},
   "outputs": [],
   "source": [
    "#8. Write code that prints Hello if 1 is stored in spam, prints Howdy if 2 is stored in spam,and prints Greetings! if anything else is stored in spam.\n",
    "\n",
    "a = input(\"Enter a value: \")\n",
    "if a == '1':\n",
    "    print('Hello')\n",
    "elif a == '2':\n",
    "    print('Howdy')\n",
    "else: print('Greetings!')"
   ]
  },
  {
   "cell_type": "code",
   "execution_count": null,
   "id": "07a39a6b",
   "metadata": {},
   "outputs": [],
   "source": [
    "#9.If your programme is stuck in an endless loop, what keys you’ll press?\n",
    "\n",
    "while 1>0:\n",
    "    print('.')\n",
    "    \n",
    "CTRL+C"
   ]
  },
  {
   "cell_type": "code",
   "execution_count": null,
   "id": "24c57e64",
   "metadata": {},
   "outputs": [],
   "source": [
    "10. How can you tell the difference between break and continue?\n",
    "\n",
    "break terminates the current loop \n",
    "continue takes the control to next statement to be executed."
   ]
  },
  {
   "cell_type": "code",
   "execution_count": null,
   "id": "d9fac201",
   "metadata": {},
   "outputs": [],
   "source": [
    "11. In a for loop, what is the difference between range(10), range(0, 10), and range(0, 10, 1)?\n",
    "range(10) and range(0,10) are basically same only difference is in first we have provided initial point of start which is by default zero = 0\n",
    "range(0,10,1) is also same as above but the thing is we have provided an additional parameter step.\n"
   ]
  },
  {
   "cell_type": "code",
   "execution_count": null,
   "id": "8fb00c22",
   "metadata": {},
   "outputs": [],
   "source": [
    "#12. Write a short program that prints the numbers 1 to 10 using a for loop. \n",
    "#Then write an equivalent program that prints the numbers 1 to 10 using a while loop.\n",
    "\n",
    "for i in range(1,11):\n",
    "    print(i)\n",
    "i-=9\n",
    "while i < 11:\n",
    "    print(i)\n",
    "    i+=1\n"
   ]
  },
  {
   "cell_type": "code",
   "execution_count": null,
   "id": "488ebcd0",
   "metadata": {},
   "outputs": [],
   "source": [
    "#13. If you had a function named bacon() inside a module named spam, how would you call it after importing spam?\n",
    "\n",
    "import spam\n",
    "spam()"
   ]
  }
 ],
 "metadata": {
  "kernelspec": {
   "display_name": "Python 3",
   "language": "python",
   "name": "python3"
  },
  "language_info": {
   "codemirror_mode": {
    "name": "ipython",
    "version": 3
   },
   "file_extension": ".py",
   "mimetype": "text/x-python",
   "name": "python",
   "nbconvert_exporter": "python",
   "pygments_lexer": "ipython3",
   "version": "3.8.8"
  }
 },
 "nbformat": 4,
 "nbformat_minor": 5
}
