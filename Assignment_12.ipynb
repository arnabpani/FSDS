{
 "cells": [
  {
   "cell_type": "code",
   "execution_count": 1,
   "id": "b39aeb10",
   "metadata": {
    "scrolled": true
   },
   "outputs": [
    {
     "ename": "SyntaxError",
     "evalue": "invalid syntax (<ipython-input-1-c5ea88b4f885>, line 2)",
     "output_type": "error",
     "traceback": [
      "\u001b[1;36m  File \u001b[1;32m\"<ipython-input-1-c5ea88b4f885>\"\u001b[1;36m, line \u001b[1;32m2\u001b[0m\n\u001b[1;33m    opened in read-binary mode\u001b[0m\n\u001b[1;37m                          ^\u001b[0m\n\u001b[1;31mSyntaxError\u001b[0m\u001b[1;31m:\u001b[0m invalid syntax\n"
     ]
    }
   ],
   "source": [
    "#1. In what modes should the PdfFileReader() and PdfFileWriter() File objects will be opened?\n",
    "#These files will be opened in binary mode., read binary (rb) for PdfFileREader() and write binary (wb) PdfFileWriter()"
   ]
  },
  {
   "cell_type": "code",
   "execution_count": 2,
   "id": "4827e3d7",
   "metadata": {},
   "outputs": [
    {
     "data": {
      "text/plain": [
       "'WORK HISTORY:\\n \\nINFOSYS (2018\\n-\\n2021): \\n \\nSenior System Engineer \\n \\n(Clients: British Petroleum, Fossil Estd. & TSB Bank U.K.)\\n \\n \\n \\nPlatform: Banking and Retail\\n \\nTool: Blue Prism 6.0 and above\\n \\nProcess Names: \\nAccount Match and Merge\\n, \\nAsset Report generation, \\nPricing Invoice Report \\n \\nTeam: Accounts, Payments & Cards\\n \\n \\n\\n \\nActively \\ninvolved in interacting with Business, Requirement Gathering, Stakeholders.\\n \\n\\n \\nCreated documentation\\n, POC\\n \\nand presented to business for signoff.\\n \\n\\n \\nResponsible for developing solutions right from discovery to deployment in production.\\n \\n\\n \\nWorked on increasing solution efficiency converting \\nAS\\n-\\nIs Process to TO\\n-\\nBe Process\\n \\nafter consulting with \\nSMEs\\n \\nin KYC Process Automation.\\n \\n\\n \\nCreated Object Design Instruction for clear understanding of the activities\\n \\nperformed during development. \\nEnsured\\n \\nevery\\n \\nsmall step is document\\ned\\n \\nto\\n \\nremove ambiguity.\\n \\n\\n \\nCreated reusable automation framework and \\nreusable libraries\\n \\nwith data externalization for RPA \\nimplementation.\\n \\n\\n \\nEnsuring comprehensive control is maintained throughout the delivery to realize the process benefi\\nts at \\nthe earliest opportunit\\ny.\\n \\n\\n \\nSuccessfully \\ndeployed \\n3\\n \\nend to end use cases in BluePrism\\n.\\n \\n\\n \\nInvolved in different phases of SDLC Analysis, Design, Development,\\n \\nTesting, Integration, Implementation \\nand Maintenance.\\n \\n\\n \\nExtensively use Blueprism templates for dev\\nelopment.\\n \\n\\n \\nCreated solid models by spying through \\nApplication Modeler\\n \\nand have experience in \\nsurface \\nautomation\\n.\\n \\n\\n \\nBroke down processes into reusable objects using Object studio and\\n \\nutilized them to build processes in \\nProcess Studio efficiently.\\n \\n \\nPlatform: Banking \\n \\nTool: UiPath\\n \\nProcess Names: SME Onboarding Process, Non\\n-\\nPlastic Fraud\\n \\nReporting\\n \\nTeam: Accounts, Payments & Cards\\n \\n \\n\\n \\nDeveloped Automation solution using \\nRE Framework.\\n \\n\\n \\nSuccessfully \\ndeployed 2 end to end use cases in UiPath\\n \\n(Customer \\nOnboarding\\n, Fraud Report \\nGeneration\\n)\\n \\n\\n \\nAPI Integration\\n \\nfor triggering SMS from \\nUiPath\\n.\\n \\n\\n \\nEnsures reusable components are designed and developed where applicable.\\n \\n\\n \\nImplemented selectors for interacting with window and web browsers for continuous navigation of \\nap\\nplications. \\n \\n\\n \\nUsed Data Scraping method for extracting structured data from browser applications or documents into a \\nCSV le or Excel Spread sheet.\\n \\n\\n \\nExperience in staging and deploying the automation solution into test and live environments.\\n \\n\\n \\nDeployed process\\ne\\ns\\n \\nin UiPath Orchestrator and scheduled their execution.\\n \\n\\n \\nUsed Best Practices for process design (Exception handling, OCRs, Selectors, variables etc.)\\n \\n \\n \\n \\n \\n \\n \\n \\n \\n'"
      ]
     },
     "execution_count": 2,
     "metadata": {},
     "output_type": "execute_result"
    }
   ],
   "source": [
    "#2. From a PdfFileReader object, how do you get a Page object for page 5?\n",
    "import PyPDF2 as pdf\n",
    "pdfFileObj = open(r\"C:\\Users\\arnab\\Documents\\Arnab Pani\\DOCUMENTS\\Arnab Pani_3.5years_RPADEV.pdf\",'rb')\n",
    "pdfReader = pdf.PdfFileReader(pdfFileObj)\n",
    "pageObj = pdfReader.getPage(1)\n",
    "pageObj.extractText()"
   ]
  },
  {
   "cell_type": "code",
   "execution_count": 3,
   "id": "81b3c66b",
   "metadata": {},
   "outputs": [
    {
     "data": {
      "text/plain": [
       "3"
      ]
     },
     "execution_count": 3,
     "metadata": {},
     "output_type": "execute_result"
    }
   ],
   "source": [
    "#3. What PdfFileReader variable stores the number of pages in the PDF document?\n",
    "#pdfReader.numPages holds total number of pages of pdf document.\n",
    "import PyPDF2 as pdf\n",
    "pdfFileObj = open(r\"C:\\Users\\arnab\\Documents\\Arnab Pani\\DOCUMENTS\\Arnab Pani_3.5years_RPADEV.pdf\",'rb')\n",
    "pdfReader = pdf.PdfFileReader(pdfFileObj)\n",
    "pdfReader.numPages"
   ]
  },
  {
   "cell_type": "code",
   "execution_count": 4,
   "id": "d559b64c",
   "metadata": {},
   "outputs": [],
   "source": [
    "#4. If a PdfFileReader object’s PDF is encrypted with the password swordfish, what must you do before you can obtain Page objects from it?\n",
    "#first we have to decrypt by calling .decrypt('swordfish')"
   ]
  },
  {
   "cell_type": "code",
   "execution_count": 5,
   "id": "71ce0654",
   "metadata": {},
   "outputs": [],
   "source": [
    "#5. What methods do you use to rotate a page?\n",
    "##The rotateClockwise() and rotateCounterClockwise() methods are present to rotate and \n",
    "#number in degree provided in argument to rototate to specific degree."
   ]
  },
  {
   "cell_type": "code",
   "execution_count": 6,
   "id": "4c4460de",
   "metadata": {},
   "outputs": [],
   "source": [
    "#6. What is the difference between a Run object and a Paragraph object?\n",
    "#A Run object is a contiguous run of text with the same style.\n",
    "#A Paragraph Object begins on a new line and contains multiple runobjects."
   ]
  },
  {
   "cell_type": "code",
   "execution_count": 7,
   "id": "2c7d7cf5",
   "metadata": {},
   "outputs": [
    {
     "ename": "ModuleNotFoundError",
     "evalue": "No module named 'docx'",
     "output_type": "error",
     "traceback": [
      "\u001b[1;31m---------------------------------------------------------------------------\u001b[0m",
      "\u001b[1;31mModuleNotFoundError\u001b[0m                       Traceback (most recent call last)",
      "\u001b[1;32m<ipython-input-7-73c121ba5454>\u001b[0m in \u001b[0;36m<module>\u001b[1;34m\u001b[0m\n\u001b[0;32m      1\u001b[0m \u001b[1;31m#7. How do you obtain a list of Paragraph objects for a Document object that’s stored in a variable named doc?\u001b[0m\u001b[1;33m\u001b[0m\u001b[1;33m\u001b[0m\u001b[1;33m\u001b[0m\u001b[0m\n\u001b[1;32m----> 2\u001b[1;33m \u001b[1;32mimport\u001b[0m \u001b[0mdocx\u001b[0m\u001b[1;33m\u001b[0m\u001b[1;33m\u001b[0m\u001b[0m\n\u001b[0m\u001b[0;32m      3\u001b[0m \u001b[0mdoc\u001b[0m \u001b[1;33m=\u001b[0m \u001b[0mdocx\u001b[0m\u001b[1;33m.\u001b[0m\u001b[0mDocument\u001b[0m\u001b[1;33m(\u001b[0m\u001b[1;34mr\"C:\\Users\\arnab\\Documents\\Arnab Pani\\DOCUMENTS\\Arnab Pani_3.5years_RPADEV.docx\"\u001b[0m\u001b[1;33m)\u001b[0m\u001b[1;33m\u001b[0m\u001b[1;33m\u001b[0m\u001b[0m\n\u001b[0;32m      4\u001b[0m \u001b[0mdoc\u001b[0m\u001b[1;33m.\u001b[0m\u001b[0mparagraphs\u001b[0m\u001b[1;33m\u001b[0m\u001b[1;33m\u001b[0m\u001b[0m\n",
      "\u001b[1;31mModuleNotFoundError\u001b[0m: No module named 'docx'"
     ]
    }
   ],
   "source": [
    "#7. How do you obtain a list of Paragraph objects for a Document object that’s stored in a variable named doc?\n",
    "import docx\n",
    "doc = docx.Document(r\"C:\\Users\\arnab\\Documents\\Arnab Pani\\DOCUMENTS\\Arnab Pani_3.5years_RPADEV.docx\")\n",
    "doc.paragraphs"
   ]
  },
  {
   "cell_type": "code",
   "execution_count": 8,
   "id": "f6c43359",
   "metadata": {},
   "outputs": [
    {
     "ename": "SyntaxError",
     "evalue": "invalid syntax (<ipython-input-8-8a70912fc6a0>, line 2)",
     "output_type": "error",
     "traceback": [
      "\u001b[1;36m  File \u001b[1;32m\"<ipython-input-8-8a70912fc6a0>\"\u001b[1;36m, line \u001b[1;32m2\u001b[0m\n\u001b[1;33m    A Run Object\u001b[0m\n\u001b[1;37m      ^\u001b[0m\n\u001b[1;31mSyntaxError\u001b[0m\u001b[1;31m:\u001b[0m invalid syntax\n"
     ]
    }
   ],
   "source": [
    "#8. What type of object has bold, underline, italic, strike, and outline variables?\n",
    "#A Run Object"
   ]
  },
  {
   "cell_type": "code",
   "execution_count": 9,
   "id": "dff9e53a",
   "metadata": {},
   "outputs": [],
   "source": [
    "#9. What is the difference between False, True, and None for the bold variable?\n",
    "#True makes the Run object bolded and False makes it always not bolded.\n",
    "#None will make the Run object just use the style’s bold setting"
   ]
  },
  {
   "cell_type": "code",
   "execution_count": 10,
   "id": "df6c1f9b",
   "metadata": {},
   "outputs": [],
   "source": [
    "#10. How do you create a Document object for a new Word document?\n",
    "#docx.Document()"
   ]
  },
  {
   "cell_type": "code",
   "execution_count": null,
   "id": "d17779c4",
   "metadata": {},
   "outputs": [],
   "source": [
    "#11. How do you add a paragraph with the text &#39;Hello, there!&#39; to a Document object stored in a variable named doc?\n",
    "import docx\n",
    "doc = docx.Document()\n",
    "\n",
    "doc.add_paragraph('&#39;Hello, there!&#39;')\n",
    "doc.save('hello.docx')"
   ]
  },
  {
   "cell_type": "code",
   "execution_count": null,
   "id": "556c8f0c",
   "metadata": {},
   "outputs": [],
   "source": [
    "#12. What integers represent the levels of headings available in Word documents?\n",
    "#The integer 0 makes the heading the Title style, which is used for the top of the document. Integers 1 to 4 are for various heading levels, with 1 being the main heading and 4 the lowest subheading"
   ]
  }
 ],
 "metadata": {
  "kernelspec": {
   "display_name": "Python 3",
   "language": "python",
   "name": "python3"
  },
  "language_info": {
   "codemirror_mode": {
    "name": "ipython",
    "version": 3
   },
   "file_extension": ".py",
   "mimetype": "text/x-python",
   "name": "python",
   "nbconvert_exporter": "python",
   "pygments_lexer": "ipython3",
   "version": "3.8.8"
  }
 },
 "nbformat": 4,
 "nbformat_minor": 5
}
