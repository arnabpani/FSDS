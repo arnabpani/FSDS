{
 "cells": [
  {
   "cell_type": "code",
   "execution_count": null,
   "id": "64cfb9a3",
   "metadata": {},
   "outputs": [],
   "source": [
    "#1. What exactly is []?\n",
    "- List"
   ]
  },
  {
   "cell_type": "code",
   "execution_count": null,
   "id": "dfe8ef04",
   "metadata": {},
   "outputs": [],
   "source": [
    "#2. In a list of values stored in a variable called spam, \n",
    "#how would you assign the value 'hello' as the third value? (Assume [2, 4, 6, 8, 10] are in spam.)\n",
    "spam = [2, 4, 6, 8, 10]\n",
    "spam.insert(2, 'hello')\n",
    "spam"
   ]
  },
  {
   "cell_type": "code",
   "execution_count": null,
   "id": "69226837",
   "metadata": {},
   "outputs": [],
   "source": [
    "#Let's pretend the spam includes the list ['a', 'b', 'c', 'd'] for the next three queries.\n",
    "#3. What is the value of spam[int(int('3' * 2) / 11)]?\n",
    "spam = ['a', 'b', 'c', 'd']\n",
    "spam[int(int('3' * 2) / 11)]\n",
    "#-d"
   ]
  },
  {
   "cell_type": "code",
   "execution_count": null,
   "id": "5e2ed740",
   "metadata": {},
   "outputs": [],
   "source": [
    "#4. What is the value of spam[-1]?\n",
    "-d"
   ]
  },
  {
   "cell_type": "code",
   "execution_count": null,
   "id": "93443bfe",
   "metadata": {},
   "outputs": [],
   "source": [
    "#5. What is the value of spam[:2]?\n",
    "-a,b"
   ]
  },
  {
   "cell_type": "code",
   "execution_count": null,
   "id": "6ef18841",
   "metadata": {},
   "outputs": [],
   "source": [
    "#Let's pretend bacon has the list [3.14, 'cat,' 11, 'cat,' True] for the next three questions.\n",
    "#6. What is the value of bacon.index('cat')?\n",
    "-1"
   ]
  },
  {
   "cell_type": "code",
   "execution_count": null,
   "id": "013c55d0",
   "metadata": {},
   "outputs": [],
   "source": [
    "#7. How does bacon.append(99) change the look of the list value in bacon?\n",
    "-99 will append at the last of the list increasing the length of list by one.\n",
    "[3.14, 'cat,' 11, 'cat,' True, 99]"
   ]
  },
  {
   "cell_type": "code",
   "execution_count": null,
   "id": "36c40ffa",
   "metadata": {},
   "outputs": [],
   "source": [
    "#8. How does bacon.remove('cat') change the look of the list in bacon?\n",
    "-Remove the first cat, if proper srtings are passed in list, apostophe is placed wrongly."
   ]
  },
  {
   "cell_type": "code",
   "execution_count": null,
   "id": "f46ce7bd",
   "metadata": {},
   "outputs": [],
   "source": [
    "#9. What are the list concatenation and list replication operators?\n",
    "-list concatenation = +\n",
    "replication operators= *"
   ]
  },
  {
   "cell_type": "code",
   "execution_count": null,
   "id": "83922a11",
   "metadata": {},
   "outputs": [],
   "source": [
    "#10. What is difference between the list methods append() and insert()?\n",
    "append() adds element at last \n",
    "insert() adds element at specific position with two parameters one is position and value"
   ]
  },
  {
   "cell_type": "code",
   "execution_count": null,
   "id": "34f2a353",
   "metadata": {},
   "outputs": [],
   "source": [
    "#11. What are the two methods for removing items from a list?\n",
    "pop()\n",
    "remove()"
   ]
  },
  {
   "cell_type": "code",
   "execution_count": null,
   "id": "943cdecc",
   "metadata": {},
   "outputs": [],
   "source": [
    "#12. Describe how list values and string values are identical.\n",
    "similarity is squence between them"
   ]
  },
  {
   "cell_type": "code",
   "execution_count": null,
   "id": "9ffdbce4",
   "metadata": {},
   "outputs": [],
   "source": [
    "#13. What's the difference between tuples and lists?\n",
    "-difference is mutablity and how we represent each of them.\n",
    "tuple()\n",
    "list[]"
   ]
  },
  {
   "cell_type": "code",
   "execution_count": null,
   "id": "e4b40b5a",
   "metadata": {},
   "outputs": [],
   "source": [
    "#14. How do you type a tuple value that only contains the integer 42?\n",
    "-(42,)"
   ]
  },
  {
   "cell_type": "code",
   "execution_count": null,
   "id": "c9172a0c",
   "metadata": {},
   "outputs": [],
   "source": [
    "#15. How do you get a list value's tuple form? \n",
    "#How do you get a tuple value's list form?\n",
    "tuple(list) - give you list values in tuple form\n",
    "list(tuple) - give you tuple values in tuple form"
   ]
  },
  {
   "cell_type": "code",
   "execution_count": null,
   "id": "5c3f9b38",
   "metadata": {},
   "outputs": [],
   "source": [
    "#16. Variables that \"contain\" list values are not necessarily lists themselves.\n",
    "#Instead, what do they contain?\n",
    "-they can contain any heterogenous element"
   ]
  },
  {
   "cell_type": "code",
   "execution_count": null,
   "id": "d2fe02d7",
   "metadata": {},
   "outputs": [],
   "source": [
    "#17. How do you distinguish between copy.copy() and copy.deepcopy()?\n",
    ".copy() creates new reference to the existing object\n",
    ".deepcopy() actually creates a copy of the existing item\n"
   ]
  },
  {
   "cell_type": "code",
   "execution_count": null,
   "id": "287242c7",
   "metadata": {},
   "outputs": [],
   "source": []
  }
 ],
 "metadata": {
  "kernelspec": {
   "display_name": "Python 3",
   "language": "python",
   "name": "python3"
  },
  "language_info": {
   "codemirror_mode": {
    "name": "ipython",
    "version": 3
   },
   "file_extension": ".py",
   "mimetype": "text/x-python",
   "name": "python",
   "nbconvert_exporter": "python",
   "pygments_lexer": "ipython3",
   "version": "3.8.8"
  }
 },
 "nbformat": 4,
 "nbformat_minor": 5
}
