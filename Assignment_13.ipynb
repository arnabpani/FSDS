{
  "nbformat": 4,
  "nbformat_minor": 0,
  "metadata": {
    "colab": {
      "provenance": [],
      "collapsed_sections": [],
      "authorship_tag": "ABX9TyM6U53AHxWBpsOr5Ox3VxOC",
      "include_colab_link": true
    },
    "kernelspec": {
      "name": "python3",
      "display_name": "Python 3"
    },
    "language_info": {
      "name": "python"
    }
  },
  "cells": [
    {
      "cell_type": "markdown",
      "metadata": {
        "id": "view-in-github",
        "colab_type": "text"
      },
      "source": [
        "<a href=\"https://colab.research.google.com/github/arnabpani/FSDS/blob/main/Assignment_13.ipynb\" target=\"_parent\"><img src=\"https://colab.research.google.com/assets/colab-badge.svg\" alt=\"Open In Colab\"/></a>"
      ]
    },
    {
      "cell_type": "code",
      "execution_count": null,
      "metadata": {
        "id": "xtsO_htrUmLW"
      },
      "outputs": [],
      "source": [
        "1. What advantages do Excel spreadsheets have over CSV spreadsheets?\n",
        "Excel can hold different schema of data under one file and dataexchanges is faster in intrasheets\n",
        "Excel Spreadsheets Donot change higher numbers to scientific numbers\n",
        "Excel can perform VBA Coding, functions, formulas\n",
        "Excel can be opened with Microsoft office only so formatting change possiblity  is less.\n",
        "Charts preparation is easy"
      ]
    },
    {
      "cell_type": "code",
      "source": [
        "2.What do you pass to csv.reader() and csv.writer() to create reader and writer objects?\n",
        "File object of the file in which we are going to play."
      ],
      "metadata": {
        "id": "EvuRLO6tUpgU"
      },
      "execution_count": null,
      "outputs": []
    },
    {
      "cell_type": "code",
      "source": [
        "3. What modes do File objects for reader and writer objects need to be opened in?\n",
        "\n",
        "Character\tMeaning\n",
        "'r'\topen for reading (default)\n",
        "'w'\topen for writing, truncating the file first\n",
        "'x'\tcreate a new file and open it for writing\n",
        "'a'\topen for writing, appending to the end of the file if it exists\n",
        "'b'\tbinary mode\n",
        "'t'\ttext mode (default)\n",
        "'+'\topen a disk file for updating (reading and writing)\n",
        "'U'\tuniversal newline mode (deprecated)"
      ],
      "metadata": {
        "id": "YBEaOSrJW2g1"
      },
      "execution_count": null,
      "outputs": []
    },
    {
      "cell_type": "code",
      "source": [
        "4. What method takes a list argument and writes it to a CSV file?\n",
        "writerow()"
      ],
      "metadata": {
        "id": "05DviyORXnL3"
      },
      "execution_count": null,
      "outputs": []
    },
    {
      "cell_type": "code",
      "source": [
        "5. What do the keyword arguments delimiter and line terminator do?\n",
        "delimiter: The delimiter is the character that appears between cells on a row.\n",
        "line terminator: The line terminator is the character that comes at the end of a row."
      ],
      "metadata": {
        "id": "vPUGMNp7Ycnb"
      },
      "execution_count": null,
      "outputs": []
    },
    {
      "cell_type": "code",
      "source": [
        "6. What function takes a string of JSON data and returns a Python data structure?\n",
        "json.load()"
      ],
      "metadata": {
        "id": "huLjBU03Y5ty"
      },
      "execution_count": null,
      "outputs": []
    },
    {
      "cell_type": "code",
      "source": [
        "7. What function takes a Python data structure and returns a string of JSON data?\n",
        "json.dumps()"
      ],
      "metadata": {
        "id": "RcjFsMFLZNtd"
      },
      "execution_count": null,
      "outputs": []
    }
  ]
}