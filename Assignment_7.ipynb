{
 "cells": [
  {
   "cell_type": "code",
   "execution_count": null,
   "id": "459424af",
   "metadata": {},
   "outputs": [],
   "source": [
    "#1. What is the name of the feature responsible for generating Regex objects?\n",
    "import re\n",
    "re.compile(r'string')\n",
    "\n",
    "re.compile generate regex objects."
   ]
  },
  {
   "cell_type": "code",
   "execution_count": null,
   "id": "dc421449",
   "metadata": {},
   "outputs": [],
   "source": [
    "#2. Why do raw strings often appear in Regex objects?\n",
    "We use raw strings to not to escape backslashes."
   ]
  },
  {
   "cell_type": "code",
   "execution_count": null,
   "id": "822f3b9a",
   "metadata": {},
   "outputs": [],
   "source": [
    "#3. What is the return value of the search() method?\n",
    "The return value of search() is re.Match object"
   ]
  },
  {
   "cell_type": "code",
   "execution_count": null,
   "id": "b33b5ee9",
   "metadata": {},
   "outputs": [],
   "source": [
    "#4. From a Match item, how do you get the actual strings that match the pattern?\n",
    ".group() - we can get the matched string with this function."
   ]
  },
  {
   "cell_type": "code",
   "execution_count": null,
   "id": "99cbaee8",
   "metadata": {},
   "outputs": [],
   "source": [
    "#5. In the regex which created from the r'(\\d\\d\\d)-(\\d\\d\\d-\\d\\d\\d\\d)', what does group zero cover?\n",
    "#Group 2? Group 1?\n",
    "group 0 covers the whole number: 212-232-2452\n",
    "group 1 covers the whole number: 212\n",
    "group 2 covers the whole number: 232-2452"
   ]
  },
  {
   "cell_type": "code",
   "execution_count": null,
   "id": "f705c863",
   "metadata": {},
   "outputs": [],
   "source": [
    "#6. In standard expression syntax, parentheses and intervals have distinct meanings. \n",
    "# How can you tell a regex that you want it to fit real parentheses and periods?\n",
    "\\( and \\) to match parantheses\n",
    "\\. for period"
   ]
  },
  {
   "cell_type": "code",
   "execution_count": null,
   "id": "768963ee",
   "metadata": {},
   "outputs": [],
   "source": [
    "#7. The findall() method returns a string list or a list of string tuples.\n",
    "#What causes it to return one of the two options?\n",
    "With Normal string it returns string list but when we enclose pattern within \"()\" it return string tuples."
   ]
  },
  {
   "cell_type": "code",
   "execution_count": null,
   "id": "bef21d55",
   "metadata": {},
   "outputs": [],
   "source": [
    "#8. In standard expressions, what does the | character mean?\n",
    "matches with any one element present either side of the pipeline or vertical bar."
   ]
  },
  {
   "cell_type": "code",
   "execution_count": null,
   "id": "7ec11d4a",
   "metadata": {},
   "outputs": [],
   "source": [
    "#9. In regular expressions, what does the character stand for?\n",
    ". for one character\n",
    ".* zero or more characters\n",
    ".+ one or more characters"
   ]
  },
  {
   "cell_type": "code",
   "execution_count": null,
   "id": "25aaeb17",
   "metadata": {},
   "outputs": [],
   "source": [
    "#10.In regular expressions, what is the difference between the + and * characters?\n",
    "* zero or more characters\n",
    "+ one or more characters"
   ]
  },
  {
   "cell_type": "code",
   "execution_count": null,
   "id": "e64ac4ea",
   "metadata": {
    "scrolled": true
   },
   "outputs": [],
   "source": [
    "#11. What is the difference between {4} and {4,5} in regular expression?\n",
    "{4} exactly 4 characters\n",
    "{4,5} 4 to 5 characters"
   ]
  },
  {
   "cell_type": "code",
   "execution_count": null,
   "id": "2f2dede3",
   "metadata": {},
   "outputs": [],
   "source": [
    "#12. What do you mean by the \\d, \\w, and \\s shorthand character classes signify in regular expressions?\n",
    "\\w [A-Za-z0-9_]\n",
    "\\d [0-9]\n",
    "\\s whitespace charater"
   ]
  },
  {
   "cell_type": "code",
   "execution_count": null,
   "id": "7fe243b2",
   "metadata": {},
   "outputs": [],
   "source": [
    "#13. What do means by \\D, \\W, and \\S shorthand character classes signify in regular expressions?\n",
    "\\D matches except digits\n",
    "\\W matches except character\n",
    "\\S matches except white space"
   ]
  },
  {
   "cell_type": "code",
   "execution_count": null,
   "id": "4794359f",
   "metadata": {},
   "outputs": [],
   "source": [
    "#14. What is the difference between .*? and .*?\n",
    ".*? - is other wise known as reluctant\n",
    ".* - is otherwise known as greedy\n",
    "\n",
    "abcdeuuuuuacdbe\n",
    "\n",
    ".*? - abcde and acdbe\n",
    ".* - abcdeuuuuuacdbe"
   ]
  },
  {
   "cell_type": "code",
   "execution_count": null,
   "id": "bdf08644",
   "metadata": {},
   "outputs": [],
   "source": [
    "#15. What is the syntax for matching both numbers and lowercase letters with a character class?\n",
    "[0-9a-z]"
   ]
  },
  {
   "cell_type": "code",
   "execution_count": null,
   "id": "960f77ca",
   "metadata": {},
   "outputs": [],
   "source": [
    "#16. What is the procedure for making a normal expression in regex case insensitive?\n",
    "(?i)"
   ]
  },
  {
   "cell_type": "code",
   "execution_count": null,
   "id": "0b837313",
   "metadata": {},
   "outputs": [],
   "source": [
    "#17. What does the . character normally match? What does it match if re.DOTALL is passed as 2nd argument in re.compile()?\n",
    ". - matches any one character\n",
    "If re. DOTALL is passed as second argument to re.compile(), \n",
    "then dot will also match newline characters"
   ]
  },
  {
   "cell_type": "code",
   "execution_count": null,
   "id": "ae7a64c8",
   "metadata": {},
   "outputs": [],
   "source": [
    "#18. If numReg = re.compile(r'\\d+'), \n",
    "#what will numRegex.sub('X', '11 drummers, 10 pipers, five rings, 4 hen') return?\n",
    "X drummers, X pipers, five rings, X hen"
   ]
  },
  {
   "cell_type": "code",
   "execution_count": null,
   "id": "03871cc5",
   "metadata": {},
   "outputs": [],
   "source": [
    "#19. What does passing re.VERBOSE as the 2nd argument to re.compile() allow to do?\n",
    "add whitespace & comments to string passed to re"
   ]
  },
  {
   "cell_type": "code",
   "execution_count": null,
   "id": "0786cb63",
   "metadata": {},
   "outputs": [],
   "source": [
    "20. How would you write a regex that match a number with comma for every three digits? \n",
    "It must match the given following:\n",
    "'42'\n",
    "'1,234'\n",
    "'6,368,745'\n",
    "but not the following:\n",
    "'12,34,567' (which has only two digits between the commas)\n",
    "'1234' (which lacks commas)\n",
    "\n",
    "\n",
    "r'\\d{1,3}(,\\d{3})*'"
   ]
  },
  {
   "cell_type": "code",
   "execution_count": null,
   "id": "91ef7ab3",
   "metadata": {},
   "outputs": [],
   "source": [
    "21. How would you write a regex that matches the full name of someone whose last name is Watanabe? You can assume that the first name that comes before it will always be one word that begins with a capital letter. The regex must match the following:\n",
    "'Haruto Watanabe'\n",
    "'Alice Watanabe'\n",
    "'RoboCop Watanabe'\n",
    "but not the following:\n",
    "'haruto Watanabe' (where the first name is not capitalized)\n",
    "'Mr. Watanabe' (where the preceding word has a nonletter character)\n",
    "'Watanabe' (which has no first name)\n",
    "'Haruto watanabe' (where Watanabe is not capitalized)\n",
    "\n",
    "'[A-Z][a-z]+\\sWatanabe'"
   ]
  },
  {
   "cell_type": "code",
   "execution_count": null,
   "id": "b0927d66",
   "metadata": {},
   "outputs": [],
   "source": [
    "22. How would you write a regex that matches a sentence where the first word is either Alice, Bob, or Carol; the second word is either eats, pets, or throws; the third word is apples, cats, or baseballs; and the sentence ends with a period? This regex should be case-insensitive. It must match the following:\n",
    "'Alice eats apples.'\n",
    "'Bob pets cats.'\n",
    "'Carol throws baseballs.'\n",
    "'Alice throws Apples.'\n",
    "'BOB EATS CATS.'\n",
    "but not the following:\n",
    "'RoboCop eats apples.'\n",
    "'ALICE THROWS FOOTBALLS.'\n",
    "'Carol eats 7 cats.'\n",
    "\n",
    "re.compile(r'(Alice|Bob|Carol)\\s+(eats|pets|throws)\\s+(apples|cats|baseballs)\\.', re.IGNORECASE)"
   ]
  }
 ],
 "metadata": {
  "kernelspec": {
   "display_name": "Python 3",
   "language": "python",
   "name": "python3"
  },
  "language_info": {
   "codemirror_mode": {
    "name": "ipython",
    "version": 3
   },
   "file_extension": ".py",
   "mimetype": "text/x-python",
   "name": "python",
   "nbconvert_exporter": "python",
   "pygments_lexer": "ipython3",
   "version": "3.8.8"
  }
 },
 "nbformat": 4,
 "nbformat_minor": 5
}
