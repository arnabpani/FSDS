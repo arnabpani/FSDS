{
 "cells": [
  {
   "cell_type": "code",
   "execution_count": null,
   "id": "f4c0c377",
   "metadata": {},
   "outputs": [],
   "source": [
    "#1. What does an empty dictionary's code look like?\n",
    "elements in key value pair within curly braces"
   ]
  },
  {
   "cell_type": "code",
   "execution_count": null,
   "id": "c633671b",
   "metadata": {},
   "outputs": [],
   "source": [
    "#2. What is the value of a dictionary value with the key 'foo' and the value 42?\n",
    "{'foo':42}\n",
    "value is 42"
   ]
  },
  {
   "cell_type": "code",
   "execution_count": null,
   "id": "2b68f236",
   "metadata": {},
   "outputs": [],
   "source": [
    "#3. What is the most significant distinction between a dictionary and a list?\n",
    "Elements present in key value pairs\n",
    "list[]\n",
    "dictionary{}\n"
   ]
  },
  {
   "cell_type": "code",
   "execution_count": null,
   "id": "2fa817e9",
   "metadata": {},
   "outputs": [],
   "source": [
    "#4. What happens if you try to access spam['foo'] if spam is {'bar': 100}?\n",
    "error in key"
   ]
  },
  {
   "cell_type": "code",
   "execution_count": null,
   "id": "2ecf02f2",
   "metadata": {},
   "outputs": [],
   "source": [
    "#5. If a dictionary is stored in spam, what is the difference between \n",
    "#the expressions 'cat' in spam and 'cat' in spam.keys()?\n",
    "both statement will search in all keys of the dictionary"
   ]
  },
  {
   "cell_type": "code",
   "execution_count": null,
   "id": "d3816a64",
   "metadata": {},
   "outputs": [],
   "source": [
    "#6. If a dictionary is stored in spam, what is the difference between the expressions 'cat' in spam and 'cat' in spam.values()?\n",
    "first statement will search in all keys of dictionary and second one will search in all values of dictionary"
   ]
  },
  {
   "cell_type": "code",
   "execution_count": null,
   "id": "02a0ad04",
   "metadata": {},
   "outputs": [],
   "source": [
    "#7. What is a shortcut for the following code?\n",
    "spam = {'colour':'black'}\n",
    "dict_v = {'color': 'black' for (k, v) in spam.items() if 'color' not in spam.keys()}"
   ]
  },
  {
   "cell_type": "code",
   "execution_count": null,
   "id": "73750cbe",
   "metadata": {},
   "outputs": [],
   "source": [
    "#8. How do you \"pretty print\" dictionary values using which module and function?\n",
    "import pprint\n",
    "pprint.pprint()"
   ]
  }
 ],
 "metadata": {
  "kernelspec": {
   "display_name": "Python 3",
   "language": "python",
   "name": "python3"
  },
  "language_info": {
   "codemirror_mode": {
    "name": "ipython",
    "version": 3
   },
   "file_extension": ".py",
   "mimetype": "text/x-python",
   "name": "python",
   "nbconvert_exporter": "python",
   "pygments_lexer": "ipython3",
   "version": "3.8.8"
  }
 },
 "nbformat": 4,
 "nbformat_minor": 5
}
