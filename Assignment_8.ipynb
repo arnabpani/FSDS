{
 "cells": [
  {
   "cell_type": "code",
   "execution_count": null,
   "id": "ea3ae81a",
   "metadata": {},
   "outputs": [],
   "source": [
    "#1. Is the Python Standard Library included with PyInputPlus?\n",
    "- No It is not included.\n",
    "\n",
    "#2. Why is PyInputPlus commonly imported with import pyinputplus as pypi?\n",
    "- It is just a recommendation to use pyinputplus as pypi in shorter form.\n",
    "\n",
    "#3. How do you distinguish between inputInt() and inputFloat()?\n",
    "-inputFloat() - returns float value. if 2 is given as input it will return 2.0\n",
    "inputInt() - return int value. If 2 is given as input it will return 2.\n",
    "\n",
    "#4. Using PyInputPlus, how do you ensure that the user enters a whole number between 0 and 99?\n",
    "input2 = pypi.inputInt(\"Enter number: \", min=0, lessThan = 99)\n",
    "\n",
    "#5. What is transferred to the keyword arguments allowRegexes and blockRegexes?\n",
    "-we give regular expression as raw string as input.\n",
    "\n",
    "#6. If a blank input is entered three times, what does inputStr(limit=3) do?\n",
    "-Throws Retry limit exception\n",
    "\n",
    "#7. If blank input is entered three times, what does inputStr(limit=3, default=&#39;hello&#39;) do?\n",
    "-syntax error but if the default string is kept inside \"\" than on 3 back to back blank input it would have taken default string as input."
   ]
  }
 ],
 "metadata": {
  "kernelspec": {
   "display_name": "Python 3",
   "language": "python",
   "name": "python3"
  },
  "language_info": {
   "codemirror_mode": {
    "name": "ipython",
    "version": 3
   },
   "file_extension": ".py",
   "mimetype": "text/x-python",
   "name": "python",
   "nbconvert_exporter": "python",
   "pygments_lexer": "ipython3",
   "version": "3.8.8"
  }
 },
 "nbformat": 4,
 "nbformat_minor": 5
}
