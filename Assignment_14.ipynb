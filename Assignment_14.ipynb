{
 "cells": [
  {
   "cell_type": "code",
   "execution_count": null,
   "id": "6227ba59",
   "metadata": {},
   "outputs": [],
   "source": [
    "1. What does RGBA stand for?\n",
    "RED GREEN BLUE ALPHA\n",
    "2. From the Pillow module, how do you get the RGBA value of any images?\n",
    "ImageColor.getcolor()\n",
    "3. What is a box tuple, and how does it work?\n",
    "A box tuple is a tuple value of four integers: the left-edge x-coordinate, the top-edge y-coordinate,the width, and the height, respectively.\n",
    "4. Use your image and load in notebook then, How can you find out the width and height of an\n",
    "Image object?\n",
    "imgobj = Image.open(r\"C:\\Users\\arnab\\Pictures\\Screenshots\\Screenshot (2).png\")\n",
    "width = imgobj.width\n",
    "height = imgobj.height\n",
    "5. What method would you call to get Image object for a 100×100 image, excluding the lower-left\n",
    "quarter of it?\n",
    "from PIL import Image\n",
    "img = Image.open('Screenshot.jpg')\n",
    "new_img = img.crop((0,50,50,50))\n",
    "6. After making changes to an Image object, how could you save it as an image file?\n",
    "pic.save('Screenshot.jpg')\n",
    "7. What module contains Pillow’s shape-drawing code?\n",
    "Imagedraw\n",
    "8. Image objects do not have drawing methods. What kind of object does? How do you get this kind\n",
    "of object?\n",
    "ImageDraw objects have shape-drawing methods such as point(), line(), or rectangle()\n",
    "They are returned by passing the Image object to the ImageDraw.Draw() function."
   ]
  }
 ],
 "metadata": {
  "kernelspec": {
   "display_name": "Python 3",
   "language": "python",
   "name": "python3"
  },
  "language_info": {
   "codemirror_mode": {
    "name": "ipython",
    "version": 3
   },
   "file_extension": ".py",
   "mimetype": "text/x-python",
   "name": "python",
   "nbconvert_exporter": "python",
   "pygments_lexer": "ipython3",
   "version": "3.8.8"
  }
 },
 "nbformat": 4,
 "nbformat_minor": 5
}
