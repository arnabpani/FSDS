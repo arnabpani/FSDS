{
 "cells": [
  {
   "cell_type": "code",
   "execution_count": null,
   "id": "907cf6d4",
   "metadata": {},
   "outputs": [],
   "source": [
    "#1. What are escape characters, and how do you use them?\n",
    "escape charater is used to operate illegal string with special operation like \\n-newline, \\t-tab etc."
   ]
  },
  {
   "cell_type": "code",
   "execution_count": null,
   "id": "828158e1",
   "metadata": {},
   "outputs": [],
   "source": [
    "#2. What do the escape characters n and t stand for?\n",
    "-\\n-newline, \\t-tab"
   ]
  },
  {
   "cell_type": "code",
   "execution_count": null,
   "id": "40c7c4d3",
   "metadata": {},
   "outputs": [],
   "source": [
    "#3. What is the way to include backslash characters in a string?\n",
    "a backslash followed by backslash is a way to include backslash"
   ]
  },
  {
   "cell_type": "code",
   "execution_count": null,
   "id": "faa10f3c",
   "metadata": {},
   "outputs": [],
   "source": [
    "#4. The string \"Howl's Moving Castle\" is a correct value. Why isn't the single quote character in the word Howl's not escaped a problem?\n",
    "because it is inside double quotation. inside double quotation content is considered as text."
   ]
  },
  {
   "cell_type": "code",
   "execution_count": null,
   "id": "818855c0",
   "metadata": {},
   "outputs": [],
   "source": [
    "#5. How do you write a string of newlines if you don't want to use the n character?\n",
    "\"\\n\" is for new line \n",
    "\"\\r\" shifts the cursor to the start of line\n",
    "Actually I didnot get the question so what ever ans i assumed it would be written above."
   ]
  },
  {
   "cell_type": "code",
   "execution_count": null,
   "id": "cf6821a2",
   "metadata": {},
   "outputs": [],
   "source": [
    "#6. What are the values of the given expressions?\n",
    "'Hello, world!'[1] e\n",
    "'Hello, world!'[0:5] Hello\n",
    "'Hello, world!'[:5] Hello\n",
    "'Hello, world!'[3:] lo, world!\n"
   ]
  },
  {
   "cell_type": "code",
   "execution_count": null,
   "id": "040f53ef",
   "metadata": {},
   "outputs": [],
   "source": [
    "#7. What are the values of the following expressions?\n",
    "'Hello'.upper() HELLO\n",
    "'Hello'.upper().isupper() True\n",
    "'Hello'.upper().lower() hello\n"
   ]
  },
  {
   "cell_type": "code",
   "execution_count": null,
   "id": "72f68e5f",
   "metadata": {},
   "outputs": [],
   "source": [
    "#8. What are the values of the following expressions?\n",
    "'Remember, remember, the fifth of July.'.split() ['Remember,', 'remember,', 'the', 'fifth', 'of', 'July.']\n",
    "'-'.join('There can only one.'.split()) 'There-can-only-one.'"
   ]
  },
  {
   "cell_type": "code",
   "execution_count": null,
   "id": "0c9a1b4b",
   "metadata": {},
   "outputs": [],
   "source": [
    "#9. What are the methods for right-justifying, left-justifying, and centering a string?\n",
    "ljust()\n",
    "rjust()\n",
    "center()"
   ]
  },
  {
   "cell_type": "code",
   "execution_count": null,
   "id": "4d7f5680",
   "metadata": {},
   "outputs": [],
   "source": [
    "#10. What is the best way to remove whitespace characters from the start or end?\n",
    "String.lstrip()\n",
    "String.rstrip()"
   ]
  }
 ],
 "metadata": {
  "kernelspec": {
   "display_name": "Python 3",
   "language": "python",
   "name": "python3"
  },
  "language_info": {
   "codemirror_mode": {
    "name": "ipython",
    "version": 3
   },
   "file_extension": ".py",
   "mimetype": "text/x-python",
   "name": "python",
   "nbconvert_exporter": "python",
   "pygments_lexer": "ipython3",
   "version": "3.8.8"
  }
 },
 "nbformat": 4,
 "nbformat_minor": 5
}
