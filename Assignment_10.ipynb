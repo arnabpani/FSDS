{
 "cells": [
  {
   "cell_type": "code",
   "execution_count": null,
   "id": "417ad75b",
   "metadata": {},
   "outputs": [],
   "source": [
    "#1. How do you distinguish between shutil.copy() and shutil.copytree()?\n",
    "shutil.copy() - will copy single file from one location to another\n",
    "shutil.copytree() - Will copy entire folder including folders & files present inside it. \n",
    "\n",
    "#2. What function is used to rename files?\n",
    "os.rename() will rename files with arguements like old file anme and new file name.\n",
    "\n",
    "#3. What is the difference between the delete functions in the send2trash and shutil modules?\n",
    "send2trash will move the file to recycle bin but shutil.remove will delete permanently.\n",
    "\n",
    "#4.ZipFile objects have a close() method just like File objects’ close() method. What ZipFile method is equivalent to File objects’ open() method?\n",
    "zipfile.ZipLine() = open() in file objects'\n",
    "\n",
    "#5. Create a programme that searches a folder tree for files with a certain file extension (such as .pdf or .jpg). Copy these files from whatever location they are in to a new folder.\n",
    "import glob\n",
    "txtfiles = []\n",
    "path = r\"C:\\Users\\arnab\\Documents\\DATA SCIENCE\\ASSIGNMENTS\\PYTHON BASIC ASSIGNMENT\\*.ipynb\"\n",
    "for i in range(3):\n",
    "    for file in glob.glob(path):\n",
    "        txtfiles.append(file)\n",
    "    path = path.replace(\".ipynb\", \"\")\n",
    "    path = path + r\"\\*.ipynb\""
   ]
  }
 ],
 "metadata": {
  "kernelspec": {
   "display_name": "Python 3",
   "language": "python",
   "name": "python3"
  },
  "language_info": {
   "codemirror_mode": {
    "name": "ipython",
    "version": 3
   },
   "file_extension": ".py",
   "mimetype": "text/x-python",
   "name": "python",
   "nbconvert_exporter": "python",
   "pygments_lexer": "ipython3",
   "version": "3.8.8"
  }
 },
 "nbformat": 4,
 "nbformat_minor": 5
}
